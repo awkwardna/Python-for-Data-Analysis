{
 "cells": [
  {
   "cell_type": "markdown",
   "metadata": {},
   "source": [
    "# Find those people you have not encountered/visited\n",
    "### 1. Two excel sheets: one is a master list of all people in the company, and another is a list of people you have encountered/visited. \n",
    "### 2.  Drop those people you have met in the master list, and create a new list of people you have not meet yet."
   ]
  },
  {
   "cell_type": "code",
   "execution_count": null,
   "metadata": {
    "collapsed": false,
    "deletable": true,
    "editable": true
   },
   "outputs": [],
   "source": [
    "import pandas as pd\n",
    "import numpy as np\n",
    "\n",
    "master=pd.read_excel('master.xls') #a new list of people\n",
    "visited=pd.read_excel('visited.xlsx') #a list of visited people"
   ]
  },
  {
   "cell_type": "code",
   "execution_count": null,
   "metadata": {
    "collapsed": false,
    "deletable": true,
    "editable": true
   },
   "outputs": [],
   "source": [
    "#use their Identification Number as a key to find the overlap bettween two spreadsheets\n",
    "arr1=new['ID'].values\n",
    "arr2=visited['ID'].values\n",
    "arr3=[i for i in range(len(arr1)) if arr1[i] in arr2]"
   ]
  },
  {
   "cell_type": "code",
   "execution_count": null,
   "metadata": {
    "collapsed": false,
    "deletable": true,
    "editable": true
   },
   "outputs": [],
   "source": [
    "df=master.drop(master.index[arr3])\n",
    "df.to_excel('newlistofpeople.xlsx')"
   ]
  }
 ],
 "metadata": {
  "kernelspec": {
   "display_name": "Python 3",
   "language": "python",
   "name": "python3"
  },
  "language_info": {
   "codemirror_mode": {
    "name": "ipython",
    "version": 3
   },
   "file_extension": ".py",
   "mimetype": "text/x-python",
   "name": "python",
   "nbconvert_exporter": "python",
   "pygments_lexer": "ipython3",
   "version": "3.6.0"
  }
 },
 "nbformat": 4,
 "nbformat_minor": 2
}
